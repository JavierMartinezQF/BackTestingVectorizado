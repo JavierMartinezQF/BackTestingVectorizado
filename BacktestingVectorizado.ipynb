{
  "nbformat": 4,
  "nbformat_minor": 0,
  "metadata": {
    "colab": {
      "provenance": []
    },
    "kernelspec": {
      "name": "python3",
      "display_name": "Python 3"
    },
    "language_info": {
      "name": "python"
    }
  },
  "cells": [
    {
      "cell_type": "markdown",
      "source": [
        "# Back Testing Vectorizado"
      ],
      "metadata": {
        "id": "LyznW9t1pfpW"
      }
    },
    {
      "cell_type": "markdown",
      "source": [
        "El backtesting es una parte esencial del trading. Es importante comprender el comportamiento de nuestra estrategia en el pasado para poder considerar como nos manejaremos en el futuro\n",
        "\n",
        "Es importante tener en mente conceptos como:\n",
        "\n",
        "\n",
        "*   Coeficiente de Sortino\n",
        "*   Beta\n",
        "*   Alfa\n",
        "\n",
        "\n",
        "\n"
      ],
      "metadata": {
        "id": "8viil0uTqDnL"
      }
    },
    {
      "cell_type": "code",
      "source": [
        "!pip install yfinance --upgrade --no-cache-dir\n",
        "!pip install ta"
      ],
      "metadata": {
        "id": "kLLUiWauqhOp"
      },
      "execution_count": null,
      "outputs": []
    },
    {
      "cell_type": "code",
      "source": [],
      "metadata": {
        "id": "gHotAv0XqWtl"
      },
      "execution_count": 1,
      "outputs": []
    },
    {
      "cell_type": "code",
      "metadata": {
        "id": "TflLwK15qGcx"
      },
      "source": [
        "import matplotlib as mpl\n",
        "import matplotlib.pyplot as plt\n",
        "import numpy as np\n",
        "import ta\n",
        "import yfinance as yf\n",
        "import pandas as pd\n",
        "import warnings\n",
        "warnings.filterwarnings(\"ignore\")\n",
        "from matplotlib import cycler\n",
        "#### Para nuestro panel\n",
        "colors = cycler('color',\n",
        "                ['#669FEE', '#66EE91', '#9988DD',\n",
        "                 '#EECC55', '#88BB44', '#FFBBBB'])\n",
        "plt.rc('figure', facecolor='#313233')\n",
        "plt.rc('axes', facecolor=\"#313233\", edgecolor='none',\n",
        "       axisbelow=True, grid=True, prop_cycle=colors,\n",
        "       labelcolor='gray')\n",
        "plt.rc('grid', color='474A4A', linestyle='solid')\n",
        "plt.rc('xtick', color='gray')\n",
        "plt.rc('ytick', direction='out', color='gray')\n",
        "plt.rc('legend', facecolor=\"#313233\", edgecolor=\"#313233\")\n",
        "plt.rc(\"text\", color=\"#C9C9C9\")\n",
        "plt.rc('figure', facecolor='#313233')"
      ],
      "execution_count": 2,
      "outputs": []
    },
    {
      "cell_type": "code",
      "source": [],
      "metadata": {
        "id": "ea9j2ZSlrAW1"
      },
      "execution_count": 2,
      "outputs": []
    },
    {
      "cell_type": "code",
      "source": [
        "### Creamos nuestra función RSI\n",
        "def RSI(val, neutral, window):\n",
        "  \"\"\"\n",
        "        ------------------------------------------------------------------------------\n",
        "        | Output: La función da los rendimientos de la estrategia RSI                |\n",
        "        ------------------------------------------------------------------------------\n",
        "        | Inputs: -val (type dataframe pandas): Valores de entrada de la acción      |\n",
        "        |         -neutral (float): Valor neutral, es decir, zona de no acción       |\n",
        "        |         -window (float): período de balanceo para el RSI                   |\n",
        "        ------------------------------------------------------------------------------\n",
        "  \"\"\"\n",
        "\n",
        "  # Imprime error si no encuentra la columna 'Adj Close'\n",
        "  if \"Adj Close\" not in val.columns:\n",
        "    ValueError(\"Necesitamos tener un nombre de columna Adj Close porque todos los cálculos se refieren a esta columna\")\n",
        "\n",
        "  val[\"rsi\"] = ta.momentum.RSIIndicator(val[\"Adj Close\"], window=window).rsi()\n",
        "\n",
        "\n",
        "\n",
        "  \"\"\"Señal de compra en largo \"\"\"\n",
        "  # Colocamos el umbral\n",
        "  overbuy = 70\n",
        "  neutral_buy = 50 + neutral\n",
        "\n",
        "  # Poner valores nan para las columnas de la señal larga\n",
        "  val[\"signal_long\"] = np.nan\n",
        "  val[\"yersteday_rsi\"] = val[\"rsi\"].shift(1)\n",
        "  # Necesitamos definir la señal de apertura en largo (RSI ayer<55 y RSI hoy>55)\n",
        "  val.loc[(val[\"rsi\"]>neutral_buy) & (val[\"yersteday_rsi\"]<neutral_buy), \"signal_long\"] = 1\n",
        "\n",
        "  # Necesitamos definir la señal cierre en largo (RSI ayer>55 y RSI hoy<55) Señal falsa\n",
        "  val.loc[(val[\"rsi\"]<neutral_buy)&(val[\"yersteday_rsi\"]>neutral_buy), \"signal_long\"] = 0\n",
        "\n",
        "  # Necesitamos definir la señal cierre en largo (RSI ayer<70 y RSI hoy>70) Señal de sobrecompra\n",
        "  val.loc[(val[\"rsi\"]>overbuy)&(val[\"yersteday_rsi\"]<overbuy), \"signal_long\"] = 0\n",
        "\n",
        "\n",
        "\n",
        "  \"\"\"Señal de venta en corto \"\"\"\n",
        "  # Colocamos el umbral\n",
        "  oversell = 30\n",
        "  neutral_sell = 50 - neutral\n",
        "\n",
        "  # Poner valores nan para las columnas de la señal larga\n",
        "  val[\"signal_short\"] = np.nan\n",
        "  val[\"yersteday_rsi\"] = val[\"rsi\"].shift(1)\n",
        "  # Necesitamos definir la señal de apertura en corto (RSI ayer>45 y RSI hoy<45)\n",
        "  val.loc[(val[\"rsi\"]<neutral_sell) & (val[\"yersteday_rsi\"]>neutral_sell), \"signal_short\"] = -1\n",
        "\n",
        "  # Necesitamos definir la señal de cierre en corto (RSI ayer<45 y RSI hoy>45) Señal falsa\n",
        "  val.loc[(val[\"rsi\"]>neutral_sell)&(val[\"yersteday_rsi\"]<neutral_sell), \"signal_short\"] = 0\n",
        "\n",
        "  # Necesitamos definir la señal de cierre en corto (RSI ayer>30 y RSI hoy<30) Señal de sobre venta\n",
        "  val.loc[(val[\"rsi\"]<oversell)&(val[\"yersteday_rsi\"]>oversell), \"signal_short\"] = 0\n",
        "\n",
        "  \"\"\"Calcular el retorno \"\"\"\n",
        "  # Calculamos el porcentaje de variación del activo\n",
        "  val[\"pct\"] = val[\"Adj Close\"].pct_change(1)\n",
        "\n",
        "  # Calculamos las posiciones\n",
        "  val[\"Position\"] = (val[\"signal_short\"].fillna(method=\"ffill\")+ val[\"signal_long\"].fillna(method=\"ffill\"))\n",
        "\n",
        "  # Calculamos el valor de retorno de la estrategia\n",
        "  val[\"return\"] = val[\"pct\"]*(val[\"Position\"].shift(1))\n",
        "\n",
        "  return val[\"return\"] if isinstance(val[\"return\"], pd.Series) else val[\"return\"].squeeze()\n"
      ],
      "metadata": {
        "id": "Mkv1p8aQKG-b"
      },
      "execution_count": 3,
      "outputs": []
    },
    {
      "cell_type": "markdown",
      "source": [
        "# 1: Sortino Beta Alpha"
      ],
      "metadata": {
        "id": "3sY0q2zfrVu7"
      }
    },
    {
      "cell_type": "markdown",
      "source": [
        "###### Sortino\n",
        "El índice de Sortino es una estadística similar al índice de Sharpe con la misma interpretación. Sin embargo, el cálculo es ligeramente diferente. En efecto, en el índice de Sortino sólo se tiene en cuenta la volatilidad de las ganancias negativas porque es lo que tememos y no las ganancias alcistas que nos hacen ganar dinero. <br>\n",
        "<p align=\"center\">\n",
        "$Sortino = \\frac{\\mu }{\\sigma_{down}}$\n",
        "<p> <br>\n",
        "\n",
        "* SortinoRatio < 0 : Inversión no rentable porque las ganancias son negativas.\n",
        "* SortinoRatio < 1: Inversión rentable, pero el riesgo de la inversión es mayor que la rentabilidad.\n",
        "* SortinoRatio > 1: Inversión muy rentable porque el riesgo es menor que el rendimiento.\n"
      ],
      "metadata": {
        "id": "agwT8a8Ercne"
      }
    },
    {
      "cell_type": "code",
      "source": [
        "# Carga sin jerarquía\n",
        "f = yf.download(\"NVDA\", auto_adjust=False, end=\"2025-05-09\")[[\"Adj Close\"]]\n",
        "f.columns = [\"Adj Close\"]\n",
        "\n",
        "# Ejecuta RSI y garantiza formato Serie\n",
        "return_serie = RSI(f, 5, 14)\n",
        "return_serie = pd.Series(return_serie.values, index=return_serie.index, name=\"return\")\n",
        "\n",
        "# Calcular Sortino\n",
        "mean = np.mean(return_serie)\n",
        "vol = np.std(return_serie[return_serie < 0])\n",
        "sortino = np.sqrt(252) * mean / vol\n",
        "\n",
        "# Imprimir\n",
        "print(f\"Sortino: {'%.3f' % sortino}\")\n"
      ],
      "metadata": {
        "colab": {
          "base_uri": "https://localhost:8080/"
        },
        "id": "UOgIzKxXrVa9",
        "outputId": "146ea98b-06f1-4bd4-9770-cf6eda3bbd38"
      },
      "execution_count": 4,
      "outputs": [
        {
          "output_type": "stream",
          "name": "stderr",
          "text": [
            "\r[*********************100%***********************]  1 of 1 completed"
          ]
        },
        {
          "output_type": "stream",
          "name": "stdout",
          "text": [
            "Sortino: 0.434\n"
          ]
        },
        {
          "output_type": "stream",
          "name": "stderr",
          "text": [
            "\n"
          ]
        }
      ]
    },
    {
      "cell_type": "markdown",
      "source": [
        "###### Beta\n",
        "La beta es un estadístico que indica la relación entre las variaciones de nuestra cartera y las del mercado que está representado por un índice (por ejemplo el SP500). <br>\n",
        "\n",
        "<p align=\"center\">\n",
        "$Beta = \\frac{Cov(r_{M},r_{PF}) }{Var(r_{M})}$\n",
        "<p> <br>\n",
        "\n",
        "\n",
        "\n",
        "* abs(Beta) < 1: Es bueno porque significa que la cartera tiene una variación menor que el índice. (Si beta=0,9 significa que si el índice varía en 1 la cartera varía en 0,9)\n",
        "* abs(Beta) > 1: No es bueno porque significa que slau cartera tiene una variación mayor que el índice. (Si beta=1,1 significa que si el índice varía de 1 la cartera varía en 1,1)\n",
        "\n",
        "*abs(-x) = x = abs(x) (abs da sólo el valor de la variable no el signo)*"
      ],
      "metadata": {
        "id": "4odO-g_KtY5S"
      }
    },
    {
      "cell_type": "code",
      "source": [
        "# Necesitamos calcular la covarianza entre el mercado y la cartera\n",
        "sp500 = yf.download(\"^GSPC\",auto_adjust=False)[\"Adj Close\"].pct_change(1)\n",
        "sp500.name = \"SP500\"\n",
        "\n",
        "# Los concatenamos para hacer las covarianzas\n",
        "val = pd.concat((return_serie, sp500), axis=1).dropna()\n",
        "val"
      ],
      "metadata": {
        "colab": {
          "base_uri": "https://localhost:8080/",
          "height": 473
        },
        "id": "2WXFDCQ7tYRR",
        "outputId": "f72b1791-5cfb-4dce-ebfd-b93a8999afe8"
      },
      "execution_count": 5,
      "outputs": [
        {
          "output_type": "stream",
          "name": "stderr",
          "text": [
            "\r[*********************100%***********************]  1 of 1 completed\n"
          ]
        },
        {
          "output_type": "execute_result",
          "data": {
            "text/plain": [
              "              return     ^GSPC\n",
              "Date                          \n",
              "1999-02-16  0.005978  0.009544\n",
              "1999-02-17 -0.053577 -0.014365\n",
              "1999-02-18  0.000000  0.010825\n",
              "1999-02-19  0.000000  0.001568\n",
              "1999-02-22  0.005978  0.026565\n",
              "...              ...       ...\n",
              "2025-05-02  0.000000  0.014727\n",
              "2025-05-05 -0.005939 -0.006382\n",
              "2025-05-06 -0.002460 -0.007693\n",
              "2025-05-07  0.000000  0.004346\n",
              "2025-05-08  0.002648  0.005800\n",
              "\n",
              "[6599 rows x 2 columns]"
            ],
            "text/html": [
              "\n",
              "  <div id=\"df-2c5a8945-d551-4a63-9e35-7f093dd9e7d2\" class=\"colab-df-container\">\n",
              "    <div>\n",
              "<style scoped>\n",
              "    .dataframe tbody tr th:only-of-type {\n",
              "        vertical-align: middle;\n",
              "    }\n",
              "\n",
              "    .dataframe tbody tr th {\n",
              "        vertical-align: top;\n",
              "    }\n",
              "\n",
              "    .dataframe thead th {\n",
              "        text-align: right;\n",
              "    }\n",
              "</style>\n",
              "<table border=\"1\" class=\"dataframe\">\n",
              "  <thead>\n",
              "    <tr style=\"text-align: right;\">\n",
              "      <th></th>\n",
              "      <th>return</th>\n",
              "      <th>^GSPC</th>\n",
              "    </tr>\n",
              "    <tr>\n",
              "      <th>Date</th>\n",
              "      <th></th>\n",
              "      <th></th>\n",
              "    </tr>\n",
              "  </thead>\n",
              "  <tbody>\n",
              "    <tr>\n",
              "      <th>1999-02-16</th>\n",
              "      <td>0.005978</td>\n",
              "      <td>0.009544</td>\n",
              "    </tr>\n",
              "    <tr>\n",
              "      <th>1999-02-17</th>\n",
              "      <td>-0.053577</td>\n",
              "      <td>-0.014365</td>\n",
              "    </tr>\n",
              "    <tr>\n",
              "      <th>1999-02-18</th>\n",
              "      <td>0.000000</td>\n",
              "      <td>0.010825</td>\n",
              "    </tr>\n",
              "    <tr>\n",
              "      <th>1999-02-19</th>\n",
              "      <td>0.000000</td>\n",
              "      <td>0.001568</td>\n",
              "    </tr>\n",
              "    <tr>\n",
              "      <th>1999-02-22</th>\n",
              "      <td>0.005978</td>\n",
              "      <td>0.026565</td>\n",
              "    </tr>\n",
              "    <tr>\n",
              "      <th>...</th>\n",
              "      <td>...</td>\n",
              "      <td>...</td>\n",
              "    </tr>\n",
              "    <tr>\n",
              "      <th>2025-05-02</th>\n",
              "      <td>0.000000</td>\n",
              "      <td>0.014727</td>\n",
              "    </tr>\n",
              "    <tr>\n",
              "      <th>2025-05-05</th>\n",
              "      <td>-0.005939</td>\n",
              "      <td>-0.006382</td>\n",
              "    </tr>\n",
              "    <tr>\n",
              "      <th>2025-05-06</th>\n",
              "      <td>-0.002460</td>\n",
              "      <td>-0.007693</td>\n",
              "    </tr>\n",
              "    <tr>\n",
              "      <th>2025-05-07</th>\n",
              "      <td>0.000000</td>\n",
              "      <td>0.004346</td>\n",
              "    </tr>\n",
              "    <tr>\n",
              "      <th>2025-05-08</th>\n",
              "      <td>0.002648</td>\n",
              "      <td>0.005800</td>\n",
              "    </tr>\n",
              "  </tbody>\n",
              "</table>\n",
              "<p>6599 rows × 2 columns</p>\n",
              "</div>\n",
              "    <div class=\"colab-df-buttons\">\n",
              "\n",
              "  <div class=\"colab-df-container\">\n",
              "    <button class=\"colab-df-convert\" onclick=\"convertToInteractive('df-2c5a8945-d551-4a63-9e35-7f093dd9e7d2')\"\n",
              "            title=\"Convert this dataframe to an interactive table.\"\n",
              "            style=\"display:none;\">\n",
              "\n",
              "  <svg xmlns=\"http://www.w3.org/2000/svg\" height=\"24px\" viewBox=\"0 -960 960 960\">\n",
              "    <path d=\"M120-120v-720h720v720H120Zm60-500h600v-160H180v160Zm220 220h160v-160H400v160Zm0 220h160v-160H400v160ZM180-400h160v-160H180v160Zm440 0h160v-160H620v160ZM180-180h160v-160H180v160Zm440 0h160v-160H620v160Z\"/>\n",
              "  </svg>\n",
              "    </button>\n",
              "\n",
              "  <style>\n",
              "    .colab-df-container {\n",
              "      display:flex;\n",
              "      gap: 12px;\n",
              "    }\n",
              "\n",
              "    .colab-df-convert {\n",
              "      background-color: #E8F0FE;\n",
              "      border: none;\n",
              "      border-radius: 50%;\n",
              "      cursor: pointer;\n",
              "      display: none;\n",
              "      fill: #1967D2;\n",
              "      height: 32px;\n",
              "      padding: 0 0 0 0;\n",
              "      width: 32px;\n",
              "    }\n",
              "\n",
              "    .colab-df-convert:hover {\n",
              "      background-color: #E2EBFA;\n",
              "      box-shadow: 0px 1px 2px rgba(60, 64, 67, 0.3), 0px 1px 3px 1px rgba(60, 64, 67, 0.15);\n",
              "      fill: #174EA6;\n",
              "    }\n",
              "\n",
              "    .colab-df-buttons div {\n",
              "      margin-bottom: 4px;\n",
              "    }\n",
              "\n",
              "    [theme=dark] .colab-df-convert {\n",
              "      background-color: #3B4455;\n",
              "      fill: #D2E3FC;\n",
              "    }\n",
              "\n",
              "    [theme=dark] .colab-df-convert:hover {\n",
              "      background-color: #434B5C;\n",
              "      box-shadow: 0px 1px 3px 1px rgba(0, 0, 0, 0.15);\n",
              "      filter: drop-shadow(0px 1px 2px rgba(0, 0, 0, 0.3));\n",
              "      fill: #FFFFFF;\n",
              "    }\n",
              "  </style>\n",
              "\n",
              "    <script>\n",
              "      const buttonEl =\n",
              "        document.querySelector('#df-2c5a8945-d551-4a63-9e35-7f093dd9e7d2 button.colab-df-convert');\n",
              "      buttonEl.style.display =\n",
              "        google.colab.kernel.accessAllowed ? 'block' : 'none';\n",
              "\n",
              "      async function convertToInteractive(key) {\n",
              "        const element = document.querySelector('#df-2c5a8945-d551-4a63-9e35-7f093dd9e7d2');\n",
              "        const dataTable =\n",
              "          await google.colab.kernel.invokeFunction('convertToInteractive',\n",
              "                                                    [key], {});\n",
              "        if (!dataTable) return;\n",
              "\n",
              "        const docLinkHtml = 'Like what you see? Visit the ' +\n",
              "          '<a target=\"_blank\" href=https://colab.research.google.com/notebooks/data_table.ipynb>data table notebook</a>'\n",
              "          + ' to learn more about interactive tables.';\n",
              "        element.innerHTML = '';\n",
              "        dataTable['output_type'] = 'display_data';\n",
              "        await google.colab.output.renderOutput(dataTable, element);\n",
              "        const docLink = document.createElement('div');\n",
              "        docLink.innerHTML = docLinkHtml;\n",
              "        element.appendChild(docLink);\n",
              "      }\n",
              "    </script>\n",
              "  </div>\n",
              "\n",
              "\n",
              "    <div id=\"df-da4a8b92-3417-4f53-9a70-2bf275ab1a2b\">\n",
              "      <button class=\"colab-df-quickchart\" onclick=\"quickchart('df-da4a8b92-3417-4f53-9a70-2bf275ab1a2b')\"\n",
              "                title=\"Suggest charts\"\n",
              "                style=\"display:none;\">\n",
              "\n",
              "<svg xmlns=\"http://www.w3.org/2000/svg\" height=\"24px\"viewBox=\"0 0 24 24\"\n",
              "     width=\"24px\">\n",
              "    <g>\n",
              "        <path d=\"M19 3H5c-1.1 0-2 .9-2 2v14c0 1.1.9 2 2 2h14c1.1 0 2-.9 2-2V5c0-1.1-.9-2-2-2zM9 17H7v-7h2v7zm4 0h-2V7h2v10zm4 0h-2v-4h2v4z\"/>\n",
              "    </g>\n",
              "</svg>\n",
              "      </button>\n",
              "\n",
              "<style>\n",
              "  .colab-df-quickchart {\n",
              "      --bg-color: #E8F0FE;\n",
              "      --fill-color: #1967D2;\n",
              "      --hover-bg-color: #E2EBFA;\n",
              "      --hover-fill-color: #174EA6;\n",
              "      --disabled-fill-color: #AAA;\n",
              "      --disabled-bg-color: #DDD;\n",
              "  }\n",
              "\n",
              "  [theme=dark] .colab-df-quickchart {\n",
              "      --bg-color: #3B4455;\n",
              "      --fill-color: #D2E3FC;\n",
              "      --hover-bg-color: #434B5C;\n",
              "      --hover-fill-color: #FFFFFF;\n",
              "      --disabled-bg-color: #3B4455;\n",
              "      --disabled-fill-color: #666;\n",
              "  }\n",
              "\n",
              "  .colab-df-quickchart {\n",
              "    background-color: var(--bg-color);\n",
              "    border: none;\n",
              "    border-radius: 50%;\n",
              "    cursor: pointer;\n",
              "    display: none;\n",
              "    fill: var(--fill-color);\n",
              "    height: 32px;\n",
              "    padding: 0;\n",
              "    width: 32px;\n",
              "  }\n",
              "\n",
              "  .colab-df-quickchart:hover {\n",
              "    background-color: var(--hover-bg-color);\n",
              "    box-shadow: 0 1px 2px rgba(60, 64, 67, 0.3), 0 1px 3px 1px rgba(60, 64, 67, 0.15);\n",
              "    fill: var(--button-hover-fill-color);\n",
              "  }\n",
              "\n",
              "  .colab-df-quickchart-complete:disabled,\n",
              "  .colab-df-quickchart-complete:disabled:hover {\n",
              "    background-color: var(--disabled-bg-color);\n",
              "    fill: var(--disabled-fill-color);\n",
              "    box-shadow: none;\n",
              "  }\n",
              "\n",
              "  .colab-df-spinner {\n",
              "    border: 2px solid var(--fill-color);\n",
              "    border-color: transparent;\n",
              "    border-bottom-color: var(--fill-color);\n",
              "    animation:\n",
              "      spin 1s steps(1) infinite;\n",
              "  }\n",
              "\n",
              "  @keyframes spin {\n",
              "    0% {\n",
              "      border-color: transparent;\n",
              "      border-bottom-color: var(--fill-color);\n",
              "      border-left-color: var(--fill-color);\n",
              "    }\n",
              "    20% {\n",
              "      border-color: transparent;\n",
              "      border-left-color: var(--fill-color);\n",
              "      border-top-color: var(--fill-color);\n",
              "    }\n",
              "    30% {\n",
              "      border-color: transparent;\n",
              "      border-left-color: var(--fill-color);\n",
              "      border-top-color: var(--fill-color);\n",
              "      border-right-color: var(--fill-color);\n",
              "    }\n",
              "    40% {\n",
              "      border-color: transparent;\n",
              "      border-right-color: var(--fill-color);\n",
              "      border-top-color: var(--fill-color);\n",
              "    }\n",
              "    60% {\n",
              "      border-color: transparent;\n",
              "      border-right-color: var(--fill-color);\n",
              "    }\n",
              "    80% {\n",
              "      border-color: transparent;\n",
              "      border-right-color: var(--fill-color);\n",
              "      border-bottom-color: var(--fill-color);\n",
              "    }\n",
              "    90% {\n",
              "      border-color: transparent;\n",
              "      border-bottom-color: var(--fill-color);\n",
              "    }\n",
              "  }\n",
              "</style>\n",
              "\n",
              "      <script>\n",
              "        async function quickchart(key) {\n",
              "          const quickchartButtonEl =\n",
              "            document.querySelector('#' + key + ' button');\n",
              "          quickchartButtonEl.disabled = true;  // To prevent multiple clicks.\n",
              "          quickchartButtonEl.classList.add('colab-df-spinner');\n",
              "          try {\n",
              "            const charts = await google.colab.kernel.invokeFunction(\n",
              "                'suggestCharts', [key], {});\n",
              "          } catch (error) {\n",
              "            console.error('Error during call to suggestCharts:', error);\n",
              "          }\n",
              "          quickchartButtonEl.classList.remove('colab-df-spinner');\n",
              "          quickchartButtonEl.classList.add('colab-df-quickchart-complete');\n",
              "        }\n",
              "        (() => {\n",
              "          let quickchartButtonEl =\n",
              "            document.querySelector('#df-da4a8b92-3417-4f53-9a70-2bf275ab1a2b button');\n",
              "          quickchartButtonEl.style.display =\n",
              "            google.colab.kernel.accessAllowed ? 'block' : 'none';\n",
              "        })();\n",
              "      </script>\n",
              "    </div>\n",
              "\n",
              "  <div id=\"id_1b47a244-5d98-49f1-add6-77dc84a301d1\">\n",
              "    <style>\n",
              "      .colab-df-generate {\n",
              "        background-color: #E8F0FE;\n",
              "        border: none;\n",
              "        border-radius: 50%;\n",
              "        cursor: pointer;\n",
              "        display: none;\n",
              "        fill: #1967D2;\n",
              "        height: 32px;\n",
              "        padding: 0 0 0 0;\n",
              "        width: 32px;\n",
              "      }\n",
              "\n",
              "      .colab-df-generate:hover {\n",
              "        background-color: #E2EBFA;\n",
              "        box-shadow: 0px 1px 2px rgba(60, 64, 67, 0.3), 0px 1px 3px 1px rgba(60, 64, 67, 0.15);\n",
              "        fill: #174EA6;\n",
              "      }\n",
              "\n",
              "      [theme=dark] .colab-df-generate {\n",
              "        background-color: #3B4455;\n",
              "        fill: #D2E3FC;\n",
              "      }\n",
              "\n",
              "      [theme=dark] .colab-df-generate:hover {\n",
              "        background-color: #434B5C;\n",
              "        box-shadow: 0px 1px 3px 1px rgba(0, 0, 0, 0.15);\n",
              "        filter: drop-shadow(0px 1px 2px rgba(0, 0, 0, 0.3));\n",
              "        fill: #FFFFFF;\n",
              "      }\n",
              "    </style>\n",
              "    <button class=\"colab-df-generate\" onclick=\"generateWithVariable('val')\"\n",
              "            title=\"Generate code using this dataframe.\"\n",
              "            style=\"display:none;\">\n",
              "\n",
              "  <svg xmlns=\"http://www.w3.org/2000/svg\" height=\"24px\"viewBox=\"0 0 24 24\"\n",
              "       width=\"24px\">\n",
              "    <path d=\"M7,19H8.4L18.45,9,17,7.55,7,17.6ZM5,21V16.75L18.45,3.32a2,2,0,0,1,2.83,0l1.4,1.43a1.91,1.91,0,0,1,.58,1.4,1.91,1.91,0,0,1-.58,1.4L9.25,21ZM18.45,9,17,7.55Zm-12,3A5.31,5.31,0,0,0,4.9,8.1,5.31,5.31,0,0,0,1,6.5,5.31,5.31,0,0,0,4.9,4.9,5.31,5.31,0,0,0,6.5,1,5.31,5.31,0,0,0,8.1,4.9,5.31,5.31,0,0,0,12,6.5,5.46,5.46,0,0,0,6.5,12Z\"/>\n",
              "  </svg>\n",
              "    </button>\n",
              "    <script>\n",
              "      (() => {\n",
              "      const buttonEl =\n",
              "        document.querySelector('#id_1b47a244-5d98-49f1-add6-77dc84a301d1 button.colab-df-generate');\n",
              "      buttonEl.style.display =\n",
              "        google.colab.kernel.accessAllowed ? 'block' : 'none';\n",
              "\n",
              "      buttonEl.onclick = () => {\n",
              "        google.colab.notebook.generateWithVariable('val');\n",
              "      }\n",
              "      })();\n",
              "    </script>\n",
              "  </div>\n",
              "\n",
              "    </div>\n",
              "  </div>\n"
            ],
            "application/vnd.google.colaboratory.intrinsic+json": {
              "type": "dataframe",
              "variable_name": "val",
              "summary": "{\n  \"name\": \"val\",\n  \"rows\": 6599,\n  \"fields\": [\n    {\n      \"column\": \"Date\",\n      \"properties\": {\n        \"dtype\": \"date\",\n        \"min\": \"1999-02-16 00:00:00\",\n        \"max\": \"2025-05-08 00:00:00\",\n        \"num_unique_values\": 6599,\n        \"samples\": [\n          \"2007-06-20 00:00:00\",\n          \"2020-05-04 00:00:00\",\n          \"2016-08-19 00:00:00\"\n        ],\n        \"semantic_type\": \"\",\n        \"description\": \"\"\n      }\n    },\n    {\n      \"column\": \"return\",\n      \"properties\": {\n        \"dtype\": \"number\",\n        \"std\": 0.023292806589878094,\n        \"min\": -0.21985384388334528,\n        \"max\": 0.3175107071690696,\n        \"num_unique_values\": 2749,\n        \"samples\": [\n          0.02602323790908745,\n          -0.0021416778570422235,\n          -0.037096258659952364\n        ],\n        \"semantic_type\": \"\",\n        \"description\": \"\"\n      }\n    },\n    {\n      \"column\": \"^GSPC\",\n      \"properties\": {\n        \"dtype\": \"number\",\n        \"std\": 0.012257623596600157,\n        \"min\": -0.11984055240393443,\n        \"max\": 0.11580036951513706,\n        \"num_unique_values\": 6597,\n        \"samples\": [\n          -0.013601086272203244,\n          -0.018412122845487655,\n          -0.013595387776707546\n        ],\n        \"semantic_type\": \"\",\n        \"description\": \"\"\n      }\n    }\n  ]\n}"
            }
          },
          "metadata": {},
          "execution_count": 5
        }
      ]
    },
    {
      "cell_type": "code",
      "source": [
        "# Calculamos la matriz de covarianzas\n",
        "cov_var_mat = np.cov(val.values, rowvar=False)\n",
        "cov_var_mat"
      ],
      "metadata": {
        "colab": {
          "base_uri": "https://localhost:8080/"
        },
        "id": "CIELe1PkttvL",
        "outputId": "52a14a6b-1a3f-42ed-b0db-49a7280c9fe7"
      },
      "execution_count": 6,
      "outputs": [
        {
          "output_type": "execute_result",
          "data": {
            "text/plain": [
              "array([[ 5.42554839e-04, -3.27835568e-05],\n",
              "       [-3.27835568e-05,  1.50249336e-04]])"
            ]
          },
          "metadata": {},
          "execution_count": 6
        }
      ]
    },
    {
      "cell_type": "code",
      "source": [
        "# Calculamos beta\n",
        "cov = cov_var_mat[0][1]\n",
        "var = cov_var_mat[1][1]\n",
        "\n",
        "beta = cov/var\n",
        "\n",
        "print(f\"Beta: {'%.3f' % beta}\")"
      ],
      "metadata": {
        "colab": {
          "base_uri": "https://localhost:8080/"
        },
        "id": "DVEyaTxptx0b",
        "outputId": "db54f3b1-af86-45e6-c09e-8a13d1c26ab4"
      },
      "execution_count": 7,
      "outputs": [
        {
          "output_type": "stream",
          "name": "stdout",
          "text": [
            "Beta: -0.218\n"
          ]
        }
      ]
    },
    {
      "cell_type": "markdown",
      "source": [
        "###### **Alpha**\n",
        "El alfa es una estadístico que indica si la cartera supera al mercado en términos de rentabilidad del riesgo. <br>\n",
        "\n",
        "<p align=\"center\">\n",
        "$Alpha = r_{PF} - \\beta*(r_{PF} - r_{f}) - r_{f}$\n",
        "<p> <br>\n",
        "\n",
        "\n",
        "* alfa > 0: La cartera supera al mercado en términos de rentabilidad del riesgo\n",
        "* alfa < 0: la cartera tiene un rendimiento inferior al del mercado en términos de riesgo-rendimiento\n"
      ],
      "metadata": {
        "id": "B8vf7uaSt3lM"
      }
    },
    {
      "cell_type": "markdown",
      "source": [],
      "metadata": {
        "id": "iKdcR2XFpZdi"
      }
    },
    {
      "cell_type": "code",
      "source": [
        "# Calculamos alpha\n",
        "alpha = (252 * mean * (1-beta))*100\n",
        "print(f\"Alpha: {'%.1f' % alpha} %\")"
      ],
      "metadata": {
        "colab": {
          "base_uri": "https://localhost:8080/"
        },
        "id": "ow5DMvBwt41F",
        "outputId": "0f14c2da-b140-48eb-bdc7-406b5983765d"
      },
      "execution_count": 8,
      "outputs": [
        {
          "output_type": "stream",
          "name": "stdout",
          "text": [
            "Alpha: 20.6 %\n"
          ]
        }
      ]
    },
    {
      "cell_type": "markdown",
      "source": [
        "## **2: Drawdown**\n",
        "\n",
        "El drawdown (reducción) es una medida del riesgo de la estrategia. Una estadística interesante para conocer el rendimiento del algoritmo es el drawdown máximo. En efecto, representa la pérdida máxima de una estrategia durante un período de tiempo que nos permite comprender si la estrategia es arriesgada y, por tanto, elegirla en función de nuestro nivel de aversión al riesgo."
      ],
      "metadata": {
        "id": "A563zKeGt_4_"
      }
    },
    {
      "cell_type": "code",
      "source": [
        "def drawdown_function(serie):\n",
        "\n",
        "  # Calculamos la suma de los rendimientos\n",
        "  cum = serie.dropna().cumsum() + 1\n",
        "\n",
        "  # Calculamos el máximo de la suma en el período (máximo acumulado) # (1,3,5,3,1) --> (1,3,5,5,5)\n",
        "  running_max = np.maximum.accumulate(cum)\n",
        "\n",
        "  # Calculamos el drawdown\n",
        "  drawdown = cum/running_max - 1\n",
        "  return drawdown"
      ],
      "metadata": {
        "id": "8MvuCbVXuCJM"
      },
      "execution_count": 9,
      "outputs": []
    },
    {
      "cell_type": "code",
      "source": [
        "# Calculamos el drawdown\n",
        "drawdown = drawdown_function(return_serie)\n",
        "drawdown"
      ],
      "metadata": {
        "colab": {
          "base_uri": "https://localhost:8080/",
          "height": 489
        },
        "id": "HisSrgYbuJAC",
        "outputId": "dee98896-4dd1-462c-a395-c90cd00919be"
      },
      "execution_count": 10,
      "outputs": [
        {
          "output_type": "execute_result",
          "data": {
            "text/plain": [
              "Date\n",
              "1999-02-16    0.000000\n",
              "1999-02-17   -0.053259\n",
              "1999-02-18   -0.053259\n",
              "1999-02-19   -0.053259\n",
              "1999-02-22   -0.047316\n",
              "                ...   \n",
              "2025-05-02   -0.074022\n",
              "2025-05-05   -0.075036\n",
              "2025-05-06   -0.075456\n",
              "2025-05-07   -0.075456\n",
              "2025-05-08   -0.075004\n",
              "Name: return, Length: 6599, dtype: float64"
            ],
            "text/html": [
              "<div>\n",
              "<style scoped>\n",
              "    .dataframe tbody tr th:only-of-type {\n",
              "        vertical-align: middle;\n",
              "    }\n",
              "\n",
              "    .dataframe tbody tr th {\n",
              "        vertical-align: top;\n",
              "    }\n",
              "\n",
              "    .dataframe thead th {\n",
              "        text-align: right;\n",
              "    }\n",
              "</style>\n",
              "<table border=\"1\" class=\"dataframe\">\n",
              "  <thead>\n",
              "    <tr style=\"text-align: right;\">\n",
              "      <th></th>\n",
              "      <th>return</th>\n",
              "    </tr>\n",
              "    <tr>\n",
              "      <th>Date</th>\n",
              "      <th></th>\n",
              "    </tr>\n",
              "  </thead>\n",
              "  <tbody>\n",
              "    <tr>\n",
              "      <th>1999-02-16</th>\n",
              "      <td>0.000000</td>\n",
              "    </tr>\n",
              "    <tr>\n",
              "      <th>1999-02-17</th>\n",
              "      <td>-0.053259</td>\n",
              "    </tr>\n",
              "    <tr>\n",
              "      <th>1999-02-18</th>\n",
              "      <td>-0.053259</td>\n",
              "    </tr>\n",
              "    <tr>\n",
              "      <th>1999-02-19</th>\n",
              "      <td>-0.053259</td>\n",
              "    </tr>\n",
              "    <tr>\n",
              "      <th>1999-02-22</th>\n",
              "      <td>-0.047316</td>\n",
              "    </tr>\n",
              "    <tr>\n",
              "      <th>...</th>\n",
              "      <td>...</td>\n",
              "    </tr>\n",
              "    <tr>\n",
              "      <th>2025-05-02</th>\n",
              "      <td>-0.074022</td>\n",
              "    </tr>\n",
              "    <tr>\n",
              "      <th>2025-05-05</th>\n",
              "      <td>-0.075036</td>\n",
              "    </tr>\n",
              "    <tr>\n",
              "      <th>2025-05-06</th>\n",
              "      <td>-0.075456</td>\n",
              "    </tr>\n",
              "    <tr>\n",
              "      <th>2025-05-07</th>\n",
              "      <td>-0.075456</td>\n",
              "    </tr>\n",
              "    <tr>\n",
              "      <th>2025-05-08</th>\n",
              "      <td>-0.075004</td>\n",
              "    </tr>\n",
              "  </tbody>\n",
              "</table>\n",
              "<p>6599 rows × 1 columns</p>\n",
              "</div><br><label><b>dtype:</b> float64</label>"
            ]
          },
          "metadata": {},
          "execution_count": 10
        }
      ]
    },
    {
      "cell_type": "code",
      "source": [
        "#  tamaño de la figura\n",
        "plt.figure(figsize=(15,8))\n",
        "\n",
        "# Representar el drawdown\n",
        "plt.fill_between(drawdown.index, drawdown*100, 0,\n",
        "                 drawdown, color=\"#CE5757\", alpha=0.65)\n",
        "\n",
        "# Añadimos el título\n",
        "plt.title(\"Drawdown\")\n",
        "\n",
        "# Etiqueta del eje de la y\n",
        "plt.ylabel(\"Drawdown en %\")\n",
        "\n",
        "plt.show()"
      ],
      "metadata": {
        "colab": {
          "base_uri": "https://localhost:8080/",
          "height": 699
        },
        "id": "VEmwS0EyuNW-",
        "outputId": "057fc9d2-e2f3-442f-f163-f210c07c520a"
      },
      "execution_count": 11,
      "outputs": [
        {
          "output_type": "display_data",
          "data": {
            "text/plain": [
              "<Figure size 1500x800 with 1 Axes>"
            ],
            "image/png": "[encoded data removed]"
          },
          "metadata": {}
        }
      ]
    },
    {
      "cell_type": "code",
      "source": [
        "# Cálculo del drawdown máximo\n",
        "max_drawdown = -np.min(drawdown)*100\n",
        "print(f\"Max drawdown: {'%.1f' % max_drawdown} %\")"
      ],
      "metadata": {
        "colab": {
          "base_uri": "https://localhost:8080/"
        },
        "id": "r83XhYBAuYJw",
        "outputId": "894e1a16-1298-44c9-9bb8-e0fb3aead0f8"
      },
      "execution_count": 12,
      "outputs": [
        {
          "output_type": "stream",
          "name": "stdout",
          "text": [
            "Max drawdown: 50.3 %\n"
          ]
        }
      ]
    },
    {
      "cell_type": "markdown",
      "source": [
        "# *3: Función BackTest para evaluar la estrategia *"
      ],
      "metadata": {
        "id": "PmjfhBGtudkh"
      }
    },
    {
      "cell_type": "code",
      "source": [
        "def BackTest(serie, annualized_scalar=252):\n",
        "    import matplotlib.pyplot as plt\n",
        "    import yfinance as yf\n",
        "    import numpy as np\n",
        "    import pandas as pd\n",
        "\n",
        "    # Validar y renombrar la serie\n",
        "    if not isinstance(serie, pd.Series):\n",
        "        raise TypeError(\"⚠️ 'serie' debe ser un pandas.Series con índice de fechas.\")\n",
        "    serie = serie.copy()\n",
        "    serie.name = \"return\"\n",
        "\n",
        "    # Descargar el benchmark SP500\n",
        "    try:\n",
        "        sp500 = yf.download(\"^GSPC\", auto_adjust=False)[\"Adj Close\"].pct_change()\n",
        "        sp500.name = \"SP500\"\n",
        "    except Exception as e:\n",
        "        raise RuntimeError(f\"❌ Error descargando SP500: {e}\")\n",
        "\n",
        "    # Combinar las series y asegurarse de que se alineen\n",
        "    val = pd.concat([serie, sp500], axis=1).dropna()\n",
        "\n",
        "    if \"return\" not in val.columns or \"SP500\" not in val.columns:\n",
        "        raise KeyError(\"❌ No se encuentran las columnas 'return' y 'SP500' después de concatenar.\")\n",
        "\n",
        "    # --------------------\n",
        "    # Calcular drawdown\n",
        "    def drawdown_function(r):\n",
        "        wealth = (1 + r).cumprod()\n",
        "        peak = wealth.cummax()\n",
        "        drawdown = (wealth - peak) / peak\n",
        "        return drawdown\n",
        "\n",
        "    drawdown = drawdown_function(val[\"return\"]) * 100\n",
        "    max_drawdown = -np.min(drawdown)\n",
        "\n",
        "    # --------------------\n",
        "    # Plot\n",
        "    fig, (cum, dra) = plt.subplots(1, 2, figsize=(20, 6))\n",
        "    fig.suptitle(\"Backtesting\", size=20)\n",
        "\n",
        "    cum.plot(val[\"return\"].cumsum() * 100, color=\"#39B3C7\", label=\"Portfolio\", ax=cum)\n",
        "    cum.plot(val[\"SP500\"].cumsum() * 100, color=\"#B85A0F\", label=\"SP500\", ax=cum)\n",
        "    cum.set_title(\"Cumulative Return\")\n",
        "    cum.set_ylabel(\"Cumulative Return (%)\")\n",
        "    cum.legend()\n",
        "\n",
        "    dra.fill_between(drawdown.index, 0, drawdown, color=\"#C73954\", alpha=0.65)\n",
        "    dra.set_title(\"Drawdown\")\n",
        "    dra.set_ylabel(\"Drawdown (%)\")\n",
        "\n",
        "    plt.tight_layout()\n",
        "    plt.show()\n",
        "\n",
        "    # --------------------\n",
        "    # Métricas\n",
        "    mean_ret = val[\"return\"].mean()\n",
        "    downside_std = val[\"return\"][val[\"return\"] < 0].std()\n",
        "    sortino = np.sqrt(annualized_scalar) * mean_ret / downside_std\n",
        "\n",
        "    cov_matrix = np.cov(val[\"return\"], val[\"SP500\"])\n",
        "    beta = cov_matrix[0, 1] / np.var(val[\"SP500\"])\n",
        "    alpha = annualized_scalar * (mean_ret - beta * val[\"SP500\"].mean())\n",
        "\n",
        "    # --------------------\n",
        "    # Resultados\n",
        "    print(f\"📊 Resultados del Backtest\")\n",
        "    print(f\"----------------------------\")\n",
        "    print(f\"✅ Sortino Ratio     : {np.round(sortino, 3)}\")\n",
        "    print(f\"📉 Max Drawdown      : {np.round(max_drawdown, 2)} %\")\n",
        "    print(f\"📈 Beta              : {np.round(beta, 3)}\")\n",
        "    print(f\"💡 Alpha anualizado  : {np.round(alpha * 100, 3)} %\")\n"
      ],
      "metadata": {
        "id": "kaygjHqNudHm"
      },
      "execution_count": 20,
      "outputs": []
    }
  ]
}